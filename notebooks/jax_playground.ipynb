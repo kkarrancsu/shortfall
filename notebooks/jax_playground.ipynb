{
 "cells": [
  {
   "cell_type": "code",
   "execution_count": 1,
   "id": "9f60c10b",
   "metadata": {},
   "outputs": [],
   "source": [
    "import jax.numpy as jnp\n",
    "from jax import jacfwd"
   ]
  },
  {
   "cell_type": "code",
   "execution_count": 2,
   "id": "56516219",
   "metadata": {},
   "outputs": [
    {
     "name": "stdout",
     "output_type": "stream",
     "text": [
      "[[1. 4. 7.]\n",
      " [2. 5. 8.]\n",
      " [3. 6. 9.]]\n"
     ]
    }
   ],
   "source": [
    "def f(x):\n",
    "    return jnp.dot(x, jnp.array([[1., 2., 3.], [4., 5., 6.], [7., 8., 9.]]))\n",
    "\n",
    "x = jnp.array([1., 2., 3.])\n",
    "jacobian = jacfwd(f)(x)\n",
    "\n",
    "print(jacobian)"
   ]
  },
  {
   "cell_type": "code",
   "execution_count": 3,
   "id": "185db31a",
   "metadata": {},
   "outputs": [
    {
     "data": {
      "text/plain": [
       "DeviceArray([30., 36., 42.], dtype=float32)"
      ]
     },
     "execution_count": 3,
     "metadata": {},
     "output_type": "execute_result"
    }
   ],
   "source": [
    "f(x)"
   ]
  },
  {
   "cell_type": "code",
   "execution_count": 4,
   "id": "28c26c0c",
   "metadata": {},
   "outputs": [
    {
     "data": {
      "text/plain": [
       "DeviceArray([[1., 2., 3.],\n",
       "             [4., 5., 6.],\n",
       "             [7., 8., 9.]], dtype=float32)"
      ]
     },
     "execution_count": 4,
     "metadata": {},
     "output_type": "execute_result"
    }
   ],
   "source": [
    "jnp.array([[1., 2., 3.], [4., 5., 6.], [7., 8., 9.]])"
   ]
  },
  {
   "cell_type": "code",
   "execution_count": 5,
   "id": "f33c2e84",
   "metadata": {},
   "outputs": [
    {
     "name": "stdout",
     "output_type": "stream",
     "text": [
      "[ 1  3  6 10 15]\n"
     ]
    }
   ],
   "source": [
    "x = jnp.array([1, 2, 3, 4, 5])\n",
    "rolling_sum = jnp.cumsum(x)\n",
    "\n",
    "print(rolling_sum)"
   ]
  },
  {
   "cell_type": "code",
   "execution_count": null,
   "id": "a96492eb",
   "metadata": {},
   "outputs": [],
   "source": []
  }
 ],
 "metadata": {
  "kernelspec": {
   "display_name": "Python 3 (ipykernel)",
   "language": "python",
   "name": "python3"
  },
  "language_info": {
   "codemirror_mode": {
    "name": "ipython",
    "version": 3
   },
   "file_extension": ".py",
   "mimetype": "text/x-python",
   "name": "python",
   "nbconvert_exporter": "python",
   "pygments_lexer": "ipython3",
   "version": "3.10.8"
  }
 },
 "nbformat": 4,
 "nbformat_minor": 5
}
