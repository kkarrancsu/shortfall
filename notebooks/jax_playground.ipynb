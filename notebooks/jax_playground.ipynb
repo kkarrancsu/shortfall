{
 "cells": [
  {
   "cell_type": "code",
   "execution_count": 1,
   "id": "9f60c10b",
   "metadata": {},
   "outputs": [],
   "source": [
    "import jax.numpy as jnp\n",
    "from jax import jacfwd, grad, jacobian\n",
    "from jax.test_util import check_grads"
   ]
  },
  {
   "cell_type": "code",
   "execution_count": null,
   "id": "56516219",
   "metadata": {},
   "outputs": [],
   "source": [
    "def f(x):\n",
    "    return jnp.dot(x, jnp.array([[1., 2., 3.], [4., 5., 6.], [7., 8., 9.]]))\n",
    "\n",
    "x = jnp.array([1., 2., 3.])\n",
    "jacobian = jacfwd(f)(x)\n",
    "\n",
    "print(jacobian)"
   ]
  },
  {
   "cell_type": "code",
   "execution_count": null,
   "id": "185db31a",
   "metadata": {},
   "outputs": [],
   "source": [
    "f(x)"
   ]
  },
  {
   "cell_type": "code",
   "execution_count": null,
   "id": "28c26c0c",
   "metadata": {},
   "outputs": [],
   "source": [
    "jnp.array([[1., 2., 3.], [4., 5., 6.], [7., 8., 9.]])"
   ]
  },
  {
   "cell_type": "code",
   "execution_count": null,
   "id": "f33c2e84",
   "metadata": {},
   "outputs": [],
   "source": [
    "x = jnp.array([1, 2, 3, 4, 5])\n",
    "rolling_sum = jnp.cumsum(x)\n",
    "\n",
    "print(rolling_sum)"
   ]
  },
  {
   "cell_type": "code",
   "execution_count": 2,
   "id": "a96492eb",
   "metadata": {},
   "outputs": [],
   "source": [
    "def f(x):\n",
    "    return x[0] * x[1]\n",
    "jc_f = jacobian(f)"
   ]
  },
  {
   "cell_type": "code",
   "execution_count": 3,
   "id": "8eae66d1",
   "metadata": {},
   "outputs": [
    {
     "data": {
      "text/plain": [
       "DeviceArray([2., 1.], dtype=float32)"
      ]
     },
     "execution_count": 3,
     "metadata": {},
     "output_type": "execute_result"
    }
   ],
   "source": [
    "x = jnp.array([1., 2.])\n",
    "jc_f(x)"
   ]
  },
  {
   "cell_type": "code",
   "execution_count": 4,
   "id": "46eec9ba",
   "metadata": {},
   "outputs": [
    {
     "data": {
      "text/plain": [
       "DeviceArray([2., 1.], dtype=float32)"
      ]
     },
     "execution_count": 4,
     "metadata": {},
     "output_type": "execute_result"
    }
   ],
   "source": [
    "grad(f)(x)"
   ]
  },
  {
   "cell_type": "code",
   "execution_count": null,
   "id": "456bdaf4",
   "metadata": {},
   "outputs": [],
   "source": []
  }
 ],
 "metadata": {
  "kernelspec": {
   "display_name": "Python 3 (ipykernel)",
   "language": "python",
   "name": "python3"
  },
  "language_info": {
   "codemirror_mode": {
    "name": "ipython",
    "version": 3
   },
   "file_extension": ".py",
   "mimetype": "text/x-python",
   "name": "python",
   "nbconvert_exporter": "python",
   "pygments_lexer": "ipython3",
   "version": "3.10.8"
  }
 },
 "nbformat": 4,
 "nbformat_minor": 5
}
